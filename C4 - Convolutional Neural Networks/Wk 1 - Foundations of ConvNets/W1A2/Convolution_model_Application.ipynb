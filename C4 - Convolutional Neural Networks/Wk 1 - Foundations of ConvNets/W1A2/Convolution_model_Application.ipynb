{
 "cells": [
  {
   "cell_type": "markdown",
   "metadata": {},
   "source": [
    "# Convolutional Neural Networks: Application\n",
    "\n",
    "Welcome to Course 4's second assignment! In this notebook, you will:\n",
    "\n",
    "- Create a mood classifer using the TF Keras Sequential API\n",
    "- Build a ConvNet to identify sign language digits using the TF Keras Functional API\n",
    "\n",
    "**After this assignment you will be able to:**\n",
    "\n",
    "- Build and train a ConvNet in TensorFlow for a __binary__ classification problem\n",
    "- Build and train a ConvNet in TensorFlow for a __multiclass__ classification problem\n",
    "- Explain different use cases for the Sequential and Functional APIs\n",
    "\n",
    "To complete this assignment, you should already be familiar with TensorFlow. If you are not, please refer back to the **TensorFlow Tutorial** of the third week of Course 2 (\"**Improving deep neural networks**\").\n",
    "\n",
    "## Important Note on Submission to the AutoGrader\n",
    "\n",
    "Before submitting your assignment to the AutoGrader, please make sure you are not doing the following:\n",
    "\n",
    "1. You have not added any _extra_ `print` statement(s) in the assignment.\n",
    "2. You have not added any _extra_ code cell(s) in the assignment.\n",
    "3. You have not changed any of the function parameters.\n",
    "4. You are not using any global variables inside your graded exercises. Unless specifically instructed to do so, please refrain from it and use the local variables instead.\n",
    "5. You are not changing the assignment code where it is not required, like creating _extra_ variables.\n",
    "\n",
    "If you do any of the following, you will get something like, `Grader Error: Grader feedback not found` (or similarly unexpected) error upon submitting your assignment. Before asking for help/debugging the errors in your assignment, check for these first. If this is the case, and you don't remember the changes you have made, you can get a fresh copy of the assignment by following these [instructions](https://www.coursera.org/learn/convolutional-neural-networks/supplement/DS4yP/h-ow-to-refresh-your-workspace)."
   ]
  },
  {
   "cell_type": "markdown",
   "metadata": {},
   "source": [
    "## Table of Contents\n",
    "\n",
    "- [1 - Packages](#1)\n",
    "    - [1.1 - Load the Data and Split the Data into Train/Test Sets](#1-1)\n",
    "- [2 - Layers in TF Keras](#2)\n",
    "- [3 - The Sequential API](#3)\n",
    "    - [3.1 - Create the Sequential Model](#3-1)\n",
    "        - [Exercise 1 - happyModel](#ex-1)\n",
    "    - [3.2 - Train and Evaluate the Model](#3-2)\n",
    "- [4 - The Functional API](#4)\n",
    "    - [4.1 - Load the SIGNS Dataset](#4-1)\n",
    "    - [4.2 - Split the Data into Train/Test Sets](#4-2)\n",
    "    - [4.3 - Forward Propagation](#4-3)\n",
    "        - [Exercise 2 - convolutional_model](#ex-2)\n",
    "    - [4.4 - Train the Model](#4-4)\n",
    "- [5 - History Object](#5)\n",
    "- [6 - Bibliography](#6)"
   ]
  },
  {
   "cell_type": "markdown",
   "metadata": {},
   "source": [
    "<a name='1'></a>\n",
    "## 1 - Packages\n",
    "\n",
    "As usual, begin by loading in the packages."
   ]
  },
  {
   "cell_type": "code",
   "execution_count": 1,
   "metadata": {
    "deletable": false,
    "editable": false
   },
   "outputs": [],
   "source": [
    "### v1.1"
   ]
  },
  {
   "cell_type": "code",
   "execution_count": 2,
   "metadata": {},
   "outputs": [],
   "source": [
    "import math\n",
    "import numpy as np\n",
    "import h5py\n",
    "import matplotlib.pyplot as plt\n",
    "from matplotlib.pyplot import imread\n",
    "import scipy\n",
    "from PIL import Image\n",
    "import pandas as pd\n",
    "import tensorflow as tf\n",
    "import tensorflow.keras.layers as tfl\n",
    "from tensorflow.python.framework import ops\n",
    "from cnn_utils import *\n",
    "from test_utils import summary, comparator\n",
    "\n",
    "%matplotlib inline\n",
    "np.random.seed(1)"
   ]
  },
  {
   "cell_type": "markdown",
   "metadata": {},
   "source": [
    "<a name='1-1'></a>\n",
    "### 1.1 - Load the Data and Split the Data into Train/Test Sets\n",
    "\n",
    "You'll be using the Happy House dataset for this part of the assignment, which contains images of peoples' faces. Your task will be to build a ConvNet that determines whether the people in the images are smiling or not -- because they only get to enter the house if they're smiling!  "
   ]
  },
  {
   "cell_type": "code",
   "execution_count": 3,
   "metadata": {},
   "outputs": [
    {
     "name": "stdout",
     "output_type": "stream",
     "text": [
      "number of training examples = 600\n",
      "number of test examples = 150\n",
      "X_train shape: (600, 64, 64, 3)\n",
      "Y_train shape: (600, 1)\n",
      "X_test shape: (150, 64, 64, 3)\n",
      "Y_test shape: (150, 1)\n"
     ]
    }
   ],
   "source": [
    "X_train_orig, Y_train_orig, X_test_orig, Y_test_orig, classes = load_happy_dataset()\n",
    "\n",
    "# Normalize image vectors\n",
    "X_train = X_train_orig/255.\n",
    "X_test = X_test_orig/255.\n",
    "\n",
    "# Reshape\n",
    "Y_train = Y_train_orig.T\n",
    "Y_test = Y_test_orig.T\n",
    "\n",
    "print (\"number of training examples = \" + str(X_train.shape[0]))\n",
    "print (\"number of test examples = \" + str(X_test.shape[0]))\n",
    "print (\"X_train shape: \" + str(X_train.shape))\n",
    "print (\"Y_train shape: \" + str(Y_train.shape))\n",
    "print (\"X_test shape: \" + str(X_test.shape))\n",
    "print (\"Y_test shape: \" + str(Y_test.shape))"
   ]
  },
  {
   "cell_type": "markdown",
   "metadata": {},
   "source": [
    "You can display the images contained in the dataset. Images are **64x64** pixels in RGB format (3 channels)."
   ]
  },
  {
   "cell_type": "code",
   "execution_count": 4,
   "metadata": {},
   "outputs": [
    {
     "data": {
      "image/png": "[encoded data removed]",
      "text/plain": [
       "<Figure size 432x288 with 1 Axes>"
      ]
     },
     "metadata": {
      "needs_background": "light"
     },
     "output_type": "display_data"
    }
   ],
   "source": [
    "index = 124\n",
    "plt.imshow(X_train_orig[index]) #display sample training image\n",
    "plt.show()"
   ]
  },
  {
   "cell_type": "markdown",
   "metadata": {},
   "source": [
    "<a name='2'></a>\n",
    "## 2 - Layers in TF Keras \n",
    "\n",
    "In the previous assignment, you created layers manually in numpy. In TF Keras, you don't have to write code directly to create layers. Rather, TF Keras has pre-defined layers you can use. \n",
    "\n",
    "When you create a layer in TF Keras, you are creating a function that takes some input and transforms it into an output you can reuse later. Nice and easy! "
   ]
  },
  {
   "cell_type": "markdown",
   "metadata": {},
   "source": [
    "<a name='3'></a>\n",
    "## 3 - The Sequential API\n",
    "\n",
    "In the previous assignment, you built helper functions using `numpy` to understand the mechanics behind convolutional neural networks. Most practical applications of deep learning today are built using programming frameworks, which have many built-in functions you can simply call. Keras is a high-level abstraction built on top of TensorFlow, which allows for even more simplified and optimized model creation and training. \n",
    "\n",
    "For the first part of this assignment, you'll create a model using TF Keras' Sequential API, which allows you to build layer by layer, and is ideal for building models where each layer has **exactly one** input tensor and **one** output tensor. \n",
    "\n",
    "As you'll see, using the Sequential API is simple and straightforward, but is only appropriate for simpler, more straightforward tasks. Later in this notebook you'll spend some time building with a more flexible, powerful alternative: the Functional API. \n",
    " "
   ]
  },
  {
   "cell_type": "markdown",
   "metadata": {},
   "source": [
    "<a name='3-1'></a>\n",
    "### 3.1 - Create the Sequential Model\n",
    "\n",
    "As mentioned earlier, the TensorFlow Keras Sequential API can be used to build simple models with layer operations that proceed in a sequential order. \n",
    "\n",
    "You can also add layers incrementally to a Sequential model with the `.add()` method, or remove them using the `.pop()` method, much like you would in a regular Python list.\n",
    "\n",
    "Actually, you can think of a Sequential model as behaving like a list of layers. Like Python lists, Sequential layers are ordered, and the order in which they are specified matters.  If your model is non-linear or contains layers with multiple inputs or outputs, a Sequential model wouldn't be the right choice!\n",
    "\n",
    "For any layer construction in Keras, you'll need to specify the input shape in advance. This is because in Keras, the shape of the weights is based on the shape of the inputs. The weights are only created when the model first sees some input data. Sequential models can be created by passing a list of layers to the Sequential constructor, like you will do in the next assignment.\n",
    "\n",
    "<a name='ex-1'></a>\n",
    "### Exercise 1 - happyModel\n",
    "\n",
    "Implement the `happyModel` function below to build the following model: `ZEROPAD2D -> CONV2D -> BATCHNORM -> RELU -> MAXPOOL -> FLATTEN -> DENSE`. Take help from [tf.keras.layers](https://www.tensorflow.org/api_docs/python/tf/keras/layers) \n",
    "\n",
    "Also, plug in the following parameters for all the steps:\n",
    "\n",
    " - [ZeroPadding2D](https://www.tensorflow.org/api_docs/python/tf/keras/layers/ZeroPadding2D): padding 3, input shape 64 x 64 x 3\n",
    " - [Conv2D](https://www.tensorflow.org/api_docs/python/tf/keras/layers/Conv2D): Use 32 7x7 filters, stride 1\n",
    " - [BatchNormalization](https://www.tensorflow.org/api_docs/python/tf/keras/layers/BatchNormalization): for axis 3\n",
    " - [ReLU](https://www.tensorflow.org/api_docs/python/tf/keras/layers/ReLU)\n",
    " - [MaxPool2D](https://www.tensorflow.org/api_docs/python/tf/keras/layers/MaxPool2D): Using default parameters\n",
    " - [Flatten](https://www.tensorflow.org/api_docs/python/tf/keras/layers/Flatten) the previous output.\n",
    " - Fully-connected ([Dense](https://www.tensorflow.org/api_docs/python/tf/keras/layers/Dense)) layer: Apply a fully connected layer with 1 neuron and a sigmoid activation. \n",
    " \n",
    " \n",
    " **Hint:**\n",
    " \n",
    " Use **tfl** as shorthand for **tensorflow.keras.layers**"
   ]
  },
  {
   "cell_type": "code",
   "execution_count": 5,
   "metadata": {
    "deletable": false,
    "nbgrader": {
     "cell_type": "code",
     "checksum": "95d28b191f257bdd5b70c7b8952559d5",
     "grade": false,
     "grade_id": "cell-0e56d3fc28b69aec",
     "locked": false,
     "schema_version": 3,
     "solution": true,
     "task": false
    }
   },
   "outputs": [],
   "source": [
    "# GRADED FUNCTION: happyModel\n",
    "#from tensorflow.keras.layers import ZeroPadding2D, Conv2D, BatchNormalization, ReLU, MaxPooling2D, Flatten, Dense\n",
    "from tensorflow.keras import layers\n",
    "\n",
    "def happyModel():\n",
    "    \"\"\"\n",
    "    Implements the forward propagation for the binary classification model:\n",
    "    ZEROPAD2D -> CONV2D -> BATCHNORM -> RELU -> MAXPOOL -> FLATTEN -> DENSE\n",
    "    \n",
    "    Note that for simplicity and grading purposes, you'll hard-code all the values\n",
    "    such as the stride and kernel (filter) sizes. \n",
    "    Normally, functions should take these values as function parameters.\n",
    "    \n",
    "    Arguments:\n",
    "    None\n",
    "\n",
    "    Returns:\n",
    "    model -- TF Keras model (object containing the information for the entire training process) \n",
    "    \"\"\"\n",
    "    model = tf.keras.Sequential([\n",
    "            # YOUR CODE STARTS HERE\n",
    "            \n",
    "            ## ZeroPadding2D with padding 3, input shape of 64 x 64 x 3\n",
    "            layers.ZeroPadding2D(padding=3, input_shape=(64, 64, 3)),\n",
    "        \n",
    "            ## Conv2D with 32 7x7 filters and stride of 1\n",
    "            layers.Conv2D(filters=32, kernel_size=(7, 7), strides=(1, 1), padding='valid'),\n",
    "        \n",
    "            ## BatchNormalization for axis 3\n",
    "            layers.BatchNormalization(axis=3),\n",
    "        \n",
    "            ## ReLU\n",
    "            layers.ReLU(),\n",
    "        \n",
    "            ## Max Pooling 2D with default parameters\n",
    "            layers.MaxPooling2D(),\n",
    "        \n",
    "            ## Flatten layer\n",
    "            layers.Flatten(),\n",
    "        \n",
    "            ## Dense layer with 1 unit for output & 'sigmoid' activation\n",
    "            layers.Dense(units=1, activation='sigmoid')\n",
    "\n",
    "            \n",
    "            \n",
    "            # YOUR CODE ENDS HERE\n",
    "        ])\n",
    "    \n",
    "    return model"
   ]
  },
  {
   "cell_type": "code",
   "execution_count": 6,
   "metadata": {
    "deletable": false,
    "editable": false,
    "nbgrader": {
     "cell_type": "code",
     "checksum": "8d3575c950e2e78149be2d05d671c80d",
     "grade": true,
     "grade_id": "cell-e3e1046e5c33d775",
     "locked": true,
     "points": 10,
     "schema_version": 3,
     "solution": false,
     "task": false
    }
   },
   "outputs": [
    {
     "name": "stdout",
     "output_type": "stream",
     "text": [
      "['ZeroPadding2D', (None, 70, 70, 3), 0, ((3, 3), (3, 3))]\n",
      "['Conv2D', (None, 64, 64, 32), 4736, 'valid', 'linear', 'GlorotUniform']\n",
      "['BatchNormalization', (None, 64, 64, 32), 128]\n",
      "['ReLU', (None, 64, 64, 32), 0]\n",
      "['MaxPooling2D', (None, 32, 32, 32), 0, (2, 2), (2, 2), 'valid']\n",
      "['Flatten', (None, 32768), 0]\n",
      "['Dense', (None, 1), 32769, 'sigmoid']\n",
      "\u001b[32mAll tests passed!\u001b[0m\n"
     ]
    }
   ],
   "source": [
    "happy_model = happyModel()\n",
    "# Print a summary for each layer\n",
    "for layer in summary(happy_model):\n",
    "    print(layer)\n",
    "    \n",
    "output = [['ZeroPadding2D', (None, 70, 70, 3), 0, ((3, 3), (3, 3))],\n",
    "            ['Conv2D', (None, 64, 64, 32), 4736, 'valid', 'linear', 'GlorotUniform'],\n",
    "            ['BatchNormalization', (None, 64, 64, 32), 128],\n",
    "            ['ReLU', (None, 64, 64, 32), 0],\n",
    "            ['MaxPooling2D', (None, 32, 32, 32), 0, (2, 2), (2, 2), 'valid'],\n",
    "            ['Flatten', (None, 32768), 0],\n",
    "            ['Dense', (None, 1), 32769, 'sigmoid']]\n",
    "    \n",
    "comparator(summary(happy_model), output)"
   ]
  },
  {
   "cell_type": "markdown",
   "metadata": {},
   "source": [
    "#### Expected Output:\n",
    "\n",
    "```\n",
    "['ZeroPadding2D', (None, 70, 70, 3), 0, ((3, 3), (3, 3))]\n",
    "['Conv2D', (None, 64, 64, 32), 4736, 'valid', 'linear', 'GlorotUniform']\n",
    "['BatchNormalization', (None, 64, 64, 32), 128]\n",
    "['ReLU', (None, 64, 64, 32), 0]\n",
    "['MaxPooling2D', (None, 32, 32, 32), 0, (2, 2), (2, 2), 'valid']\n",
    "['Flatten', (None, 32768), 0]\n",
    "['Dense', (None, 1), 32769, 'sigmoid']\n",
    "All tests passed!\n",
    "```"
   ]
  },
  {
   "cell_type": "markdown",
   "metadata": {},
   "source": [
    "Now that your model is created, you can compile it for training with an optimizer and loss of your choice. When the string `accuracy` is specified as a metric, the type of accuracy used will be automatically converted based on the loss function used. This is one of the many optimizations built into TensorFlow that make your life easier! If you'd like to read more on how the compiler operates, check the docs [here](https://www.tensorflow.org/api_docs/python/tf/keras/Model#compile)."
   ]
  },
  {
   "cell_type": "code",
   "execution_count": 7,
   "metadata": {},
   "outputs": [],
   "source": [
    "happy_model.compile(optimizer='adam',\n",
    "                   loss='binary_crossentropy',\n",
    "                   metrics=['accuracy'])"
   ]
  },
  {
   "cell_type": "markdown",
   "metadata": {},
   "source": [
    "It's time to check your model's parameters with the `.summary()` method. This will display the types of layers you have, the shape of the outputs, and how many parameters are in each layer. "
   ]
  },
  {
   "cell_type": "code",
   "execution_count": 8,
   "metadata": {},
   "outputs": [
    {
     "name": "stdout",
     "output_type": "stream",
     "text": [
      "Model: \"sequential\"\n",
      "_________________________________________________________________\n",
      "Layer (type)                 Output Shape              Param #   \n",
      "=================================================================\n",
      "zero_padding2d (ZeroPadding2 (None, 70, 70, 3)         0         \n",
      "_________________________________________________________________\n",
      "conv2d (Conv2D)              (None, 64, 64, 32)        4736      \n",
      "_________________________________________________________________\n",
      "batch_normalization (BatchNo (None, 64, 64, 32)        128       \n",
      "_________________________________________________________________\n",
      "re_lu (ReLU)                 (None, 64, 64, 32)        0         \n",
      "_________________________________________________________________\n",
      "max_pooling2d (MaxPooling2D) (None, 32, 32, 32)        0         \n",
      "_________________________________________________________________\n",
      "flatten (Flatten)            (None, 32768)             0         \n",
      "_________________________________________________________________\n",
      "dense (Dense)                (None, 1)                 32769     \n",
      "=================================================================\n",
      "Total params: 37,633\n",
      "Trainable params: 37,569\n",
      "Non-trainable params: 64\n",
      "_________________________________________________________________\n"
     ]
    }
   ],
   "source": [
    "happy_model.summary()"
   ]
  },
  {
   "cell_type": "markdown",
   "metadata": {},
   "source": [
    "<a name='3-2'></a>\n",
    "### 3.2 - Train and Evaluate the Model\n",
    "\n",
    "After creating the model, compiling it with your choice of optimizer and loss function, and doing a sanity check on its contents, you are now ready to build! \n",
    "\n",
    "Simply call `.fit()` to train. That's it! No need for mini-batching, saving, or complex backpropagation computations. That's all been done for you, as you're using a TensorFlow dataset with the batches specified already. You do have the option to specify epoch number or minibatch size if you like (for example, in the case of an un-batched dataset)."
   ]
  },
  {
   "cell_type": "code",
   "execution_count": 9,
   "metadata": {},
   "outputs": [
    {
     "name": "stdout",
     "output_type": "stream",
     "text": [
      "Epoch 1/10\n",
      "38/38 [==============================] - 4s 100ms/step - loss: 1.4362 - accuracy: 0.6900\n",
      "Epoch 2/10\n",
      "38/38 [==============================] - 4s 97ms/step - loss: 0.2936 - accuracy: 0.8767\n",
      "Epoch 3/10\n",
      "38/38 [==============================] - 4s 95ms/step - loss: 0.1442 - accuracy: 0.9417\n",
      "Epoch 4/10\n",
      "38/38 [==============================] - 4s 98ms/step - loss: 0.1254 - accuracy: 0.9467\n",
      "Epoch 5/10\n",
      "38/38 [==============================] - 4s 97ms/step - loss: 0.1303 - accuracy: 0.9583\n",
      "Epoch 6/10\n",
      "38/38 [==============================] - 4s 95ms/step - loss: 0.1299 - accuracy: 0.9467\n",
      "Epoch 7/10\n",
      "38/38 [==============================] - 4s 97ms/step - loss: 0.1437 - accuracy: 0.9450\n",
      "Epoch 8/10\n",
      "38/38 [==============================] - 4s 97ms/step - loss: 0.1027 - accuracy: 0.9600\n",
      "Epoch 9/10\n",
      "38/38 [==============================] - 4s 95ms/step - loss: 0.0701 - accuracy: 0.9783\n",
      "Epoch 10/10\n",
      "38/38 [==============================] - 4s 95ms/step - loss: 0.1492 - accuracy: 0.9517\n"
     ]
    },
    {
     "data": {
      "text/plain": [
       "<tensorflow.python.keras.callbacks.History at 0x715fdcea0cd0>"
      ]
     },
     "execution_count": 9,
     "metadata": {},
     "output_type": "execute_result"
    }
   ],
   "source": [
    "happy_model.fit(X_train, Y_train, epochs=10, batch_size=16)"
   ]
  },
  {
   "cell_type": "markdown",
   "metadata": {},
   "source": [
    "After that completes, just use `.evaluate()` to evaluate against your test set. This function will print the value of the loss function and the performance metrics specified during the compilation of the model. In this case, the `binary_crossentropy` and the `accuracy` respectively."
   ]
  },
  {
   "cell_type": "code",
   "execution_count": 10,
   "metadata": {},
   "outputs": [
    {
     "name": "stdout",
     "output_type": "stream",
     "text": [
      "5/5 [==============================] - 0s 29ms/step - loss: 1.8608 - accuracy: 0.5667\n"
     ]
    },
    {
     "data": {
      "text/plain": [
       "[1.8608392477035522, 0.5666666626930237]"
      ]
     },
     "execution_count": 10,
     "metadata": {},
     "output_type": "execute_result"
    }
   ],
   "source": [
    "happy_model.evaluate(X_test, Y_test)"
   ]
  },
  {
   "cell_type": "markdown",
   "metadata": {},
   "source": [
    "Easy, right? But what if you need to build a model with shared layers, branches, or multiple inputs and outputs? This is where Sequential, with its beautifully simple yet limited functionality, won't be able to help you. \n",
    "\n",
    "Next up: Enter the Functional API, your slightly more complex, highly flexible friend.  "
   ]
  },
  {
   "cell_type": "markdown",
   "metadata": {},
   "source": [
    "<a name='4'></a>\n",
    "## 4 - The Functional API"
   ]
  },
  {
   "cell_type": "markdown",
   "metadata": {},
   "source": [
    "Welcome to the second half of the assignment, where you'll use Keras' flexible [Functional API](https://www.tensorflow.org/guide/keras/functional) to build a ConvNet that can differentiate between 6 sign language digits. \n",
    "\n",
    "The Functional API can handle models with non-linear topology, shared layers, as well as layers with multiple inputs or outputs. Imagine that, where the Sequential API requires the model to move in a linear fashion through its layers, the Functional API allows much more flexibility. Where Sequential is a straight line, a Functional model is a graph, where the nodes of the layers can connect in many more ways than one. \n",
    "\n",
    "In the visual example below, the one possible direction of the movement Sequential model is shown in contrast to a skip connection, which is just one of the many ways a Functional model can be constructed. A skip connection, as you might have guessed, skips some layer in the network and feeds the output to a later layer in the network. Don't worry, you'll be spending more time with skip connections very soon! "
   ]
  },
  {
   "cell_type": "markdown",
   "metadata": {},
   "source": [
    "<img src=\"images/seq_vs_func.png\" style=\"width:350px;height:200px;\">"
   ]
  },
  {
   "cell_type": "markdown",
   "metadata": {},
   "source": [
    "<a name='4-1'></a>\n",
    "### 4.1 - Load the SIGNS Dataset\n",
    "\n",
    "As a reminder, the SIGNS dataset is a collection of 6 signs representing numbers from 0 to 5."
   ]
  },
  {
   "cell_type": "code",
   "execution_count": 11,
   "metadata": {},
   "outputs": [],
   "source": [
    "# Loading the data (signs)\n",
    "X_train_orig, Y_train_orig, X_test_orig, Y_test_orig, classes = load_signs_dataset()"
   ]
  },
  {
   "cell_type": "markdown",
   "metadata": {},
   "source": [
    "<img src=\"images/SIGNS.png\" style=\"width:800px;height:300px;\">\n",
    "\n",
    "The next cell will show you an example of a labelled image in the dataset. Feel free to change the value of `index` below and re-run to see different examples. "
   ]
  },
  {
   "cell_type": "code",
   "execution_count": 12,
   "metadata": {},
   "outputs": [
    {
     "name": "stdout",
     "output_type": "stream",
     "text": [
      "y = 4\n"
     ]
    },
    {
     "data": {
      "image/png": "[encoded data removed]",
      "text/plain": [
       "<Figure size 432x288 with 1 Axes>"
      ]
     },
     "metadata": {
      "needs_background": "light"
     },
     "output_type": "display_data"
    }
   ],
   "source": [
    "# Example of an image from the dataset\n",
    "index = 9\n",
    "plt.imshow(X_train_orig[index])\n",
    "print (\"y = \" + str(np.squeeze(Y_train_orig[:, index])))"
   ]
  },
  {
   "cell_type": "markdown",
   "metadata": {},
   "source": [
    "<a name='4-2'></a>\n",
    "### 4.2 - Split the Data into Train/Test Sets\n",
    "\n",
    "In Course 2, you built a fully-connected network for this dataset. But since this is an image dataset, it is more natural to apply a ConvNet to it.\n",
    "\n",
    "To get started, let's examine the shapes of your data. "
   ]
  },
  {
   "cell_type": "code",
   "execution_count": 13,
   "metadata": {},
   "outputs": [
    {
     "name": "stdout",
     "output_type": "stream",
     "text": [
      "number of training examples = 1080\n",
      "number of test examples = 120\n",
      "X_train shape: (1080, 64, 64, 3)\n",
      "Y_train shape: (1080, 6)\n",
      "X_test shape: (120, 64, 64, 3)\n",
      "Y_test shape: (120, 6)\n"
     ]
    }
   ],
   "source": [
    "X_train = X_train_orig/255.\n",
    "X_test = X_test_orig/255.\n",
    "Y_train = convert_to_one_hot(Y_train_orig, 6).T\n",
    "Y_test = convert_to_one_hot(Y_test_orig, 6).T\n",
    "print (\"number of training examples = \" + str(X_train.shape[0]))\n",
    "print (\"number of test examples = \" + str(X_test.shape[0]))\n",
    "print (\"X_train shape: \" + str(X_train.shape))\n",
    "print (\"Y_train shape: \" + str(Y_train.shape))\n",
    "print (\"X_test shape: \" + str(X_test.shape))\n",
    "print (\"Y_test shape: \" + str(Y_test.shape))"
   ]
  },
  {
   "cell_type": "markdown",
   "metadata": {},
   "source": [
    "<a name='4-3'></a>\n",
    "### 4.3 - Forward Propagation\n",
    "\n",
    "In TensorFlow, there are built-in functions that implement the convolution steps for you. By now, you should be familiar with how TensorFlow builds computational graphs. In the [Functional API](https://www.tensorflow.org/guide/keras/functional), you create a graph of layers. This is what allows such great flexibility.\n",
    "\n",
    "However, the following model could also be defined using the Sequential API since the information flow is on a single line. But don't deviate. What we want you to learn is to use the functional API.\n",
    "\n",
    "Begin building your graph of layers by creating an input node that functions as a callable object:\n",
    "\n",
    "- **input_img = tf.keras.Input(shape=input_shape):** \n",
    "\n",
    "Then, create a new node in the graph of layers by calling a layer on the `input_img` object: \n",
    "\n",
    "- **tf.keras.layers.Conv2D(filters= ... , kernel_size= ... , padding='same')(input_img):** Read the full documentation on [Conv2D](https://www.tensorflow.org/api_docs/python/tf/keras/layers/Conv2D).\n",
    "\n",
    "- **tf.keras.layers.MaxPool2D(pool_size=(f, f), strides=(s, s), padding='same'):** `MaxPool2D()` downsamples your input using a window of size (f, f) and strides of size (s, s) to carry out max pooling over each window.  For max pooling, you usually operate on a single example at a time and a single channel at a time. Read the full documentation on [MaxPool2D](https://www.tensorflow.org/api_docs/python/tf/keras/layers/MaxPool2D).\n",
    "\n",
    "- **tf.keras.layers.ReLU():** computes the elementwise ReLU of Z (which can be any shape). You can read the full documentation on [ReLU](https://www.tensorflow.org/api_docs/python/tf/keras/layers/ReLU).\n",
    "\n",
    "- **tf.keras.layers.Flatten()**: given a tensor \"P\", this function takes each training (or test) example in the batch and flattens it into a 1D vector.  \n",
    "\n",
    "    * If a tensor P has the shape (batch_size,h,w,c), it returns a flattened tensor with shape (batch_size, k), where $k=h \\times w \\times c$.  \"k\" equals the product of all the dimension sizes other than the first dimension.\n",
    "    \n",
    "    * For example, given a tensor with dimensions [100, 2, 3, 4], it flattens the tensor to be of shape [100, 24], where 24 = 2 * 3 * 4.  You can read the full documentation on [Flatten](https://www.tensorflow.org/api_docs/python/tf/keras/layers/Flatten).\n",
    "\n",
    "- **tf.keras.layers.Dense(units= ... , activation='softmax')(F):** given the flattened input F, it returns the output computed using a fully connected layer. You can read the full documentation on [Dense](https://www.tensorflow.org/api_docs/python/tf/keras/layers/Dense).\n",
    "\n",
    "In the last function above (`tf.keras.layers.Dense()`), the fully connected layer automatically initializes weights in the graph and keeps on training them as you train the model. Hence, you did not need to initialize those weights when initializing the parameters.\n",
    "\n",
    "Lastly, before creating the model, you'll need to define the output using the last of the function's compositions (in this example, a Dense layer): \n",
    "\n",
    "- **outputs = tf.keras.layers.Dense(units=6, activation='softmax')(F)**\n",
    "\n",
    "\n",
    "#### Window, kernel, filter, pool\n",
    "\n",
    "The words \"kernel\" and \"filter\" are used to refer to the same thing. The word \"filter\" accounts for the amount of \"kernels\" that will be used in a single convolution layer. \"Pool\" is the name of the operation that takes the max or average value of the kernels. \n",
    "\n",
    "This is why the parameter `pool_size` refers to `kernel_size`, and you use `(f,f)` to refer to the filter size. \n",
    "\n",
    "Pool size and kernel size refer to the same thing in different objects - They refer to the shape of the window where the operation takes place. "
   ]
  },
  {
   "cell_type": "markdown",
   "metadata": {},
   "source": [
    "<a name='ex-2'></a>\n",
    "### Exercise 2 - convolutional_model\n",
    "\n",
    "Implement the `convolutional_model` function below to build the following model: `CONV2D -> RELU -> MAXPOOL -> CONV2D -> RELU -> MAXPOOL -> FLATTEN -> DENSE`. Use the functions above! \n",
    "\n",
    "Also, plug in the following parameters for all the steps:\n",
    "\n",
    " - [Conv2D](https://www.tensorflow.org/api_docs/python/tf/keras/layers/Conv2D): Use 8 4 by 4 filters, stride 1, padding is \"SAME\"\n",
    " - [ReLU](https://www.tensorflow.org/api_docs/python/tf/keras/layers/ReLU)\n",
    " - [MaxPool2D](https://www.tensorflow.org/api_docs/python/tf/keras/layers/MaxPool2D): Use an 8 by 8 filter size and an 8 by 8 stride, padding is \"SAME\"\n",
    " - **Conv2D**: Use 16 2 by 2 filters, stride 1, padding is \"SAME\"\n",
    " - **ReLU**\n",
    " - **MaxPool2D**: Use a 4 by 4 filter size and a 4 by 4 stride, padding is \"SAME\"\n",
    " - [Flatten](https://www.tensorflow.org/api_docs/python/tf/keras/layers/Flatten) the previous output.\n",
    " - Fully-connected ([Dense](https://www.tensorflow.org/api_docs/python/tf/keras/layers/Dense)) layer: Apply a fully connected layer with 6 neurons and a softmax activation. "
   ]
  },
  {
   "cell_type": "code",
   "execution_count": 14,
   "metadata": {
    "deletable": false,
    "nbgrader": {
     "cell_type": "code",
     "checksum": "f58643806aa8380c96225fc8b4c5e7aa",
     "grade": false,
     "grade_id": "cell-dac51744a9e03f51",
     "locked": false,
     "schema_version": 3,
     "solution": true,
     "task": false
    }
   },
   "outputs": [],
   "source": [
    "# GRADED FUNCTION: convolutional_model\n",
    "\n",
    "def convolutional_model(input_shape):\n",
    "    \"\"\"\n",
    "    Implements the forward propagation for the model:\n",
    "    CONV2D -> RELU -> MAXPOOL -> CONV2D -> RELU -> MAXPOOL -> FLATTEN -> DENSE\n",
    "    \n",
    "    Note that for simplicity and grading purposes, you'll hard-code some values\n",
    "    such as the stride and kernel (filter) sizes. \n",
    "    Normally, functions should take these values as function parameters.\n",
    "    \n",
    "    Arguments:\n",
    "    input_img -- input dataset, of shape (input_shape)\n",
    "\n",
    "    Returns:\n",
    "    model -- TF Keras model (object containing the information for the entire training process) \n",
    "    \"\"\"\n",
    "\n",
    "    input_img = tf.keras.Input(shape=input_shape)\n",
    "    \n",
    "    # YOUR CODE STARTS HERE\n",
    "    \n",
    "    ## CONV2D: 8 filters 4x4, stride of 1, padding 'SAME'\n",
    "    Z1 = tf.keras.layers.Conv2D(filters=8, kernel_size=(4, 4), strides=(1, 1), padding='same')(input_img)\n",
    "    \n",
    "    ## RELU\n",
    "    A1 = tf.keras.layers.ReLU()(Z1)\n",
    "    \n",
    "    ## MAXPOOL: window 8x8, stride 8, padding 'SAME'\n",
    "    P1 = tf.keras.layers.MaxPooling2D(pool_size=(8, 8), strides=(8, 8), padding='same')(A1)\n",
    "    \n",
    "    ## CONV2D: 16 filters 2x2, stride 1, padding 'SAME'\n",
    "    Z2 = tf.keras.layers.Conv2D(filters=16, kernel_size=(2, 2), strides=(1, 1), padding='same')(P1)\n",
    "    \n",
    "    ## RELU\n",
    "    A2 = tf.keras.layers.ReLU()(Z2)\n",
    "    \n",
    "    ## MAXPOOL: window 4x4, stride 4, padding 'SAME'\n",
    "    P2 = tf.keras.layers.MaxPooling2D(pool_size=(4, 4), strides=(4, 4), padding='same')(A2)\n",
    "    \n",
    "    ## FLATTEN\n",
    "    F = tf.keras.layers.Flatten()(P2)\n",
    "    \n",
    "    ## Dense layer\n",
    "    ## 6 neurons in output layer. Hint: one of the arguments should be \"activation='softmax'\" \n",
    "    outputs = tf.keras.layers.Dense(units=6, activation='softmax')(F)\n",
    "\n",
    "    \n",
    "    \n",
    "    # YOUR CODE ENDS HERE\n",
    "    model = tf.keras.Model(inputs=input_img, outputs=outputs)\n",
    "    return model"
   ]
  },
  {
   "cell_type": "code",
   "execution_count": 15,
   "metadata": {
    "deletable": false,
    "editable": false,
    "nbgrader": {
     "cell_type": "code",
     "checksum": "483d626949930a0b0ef20997e7c6ba72",
     "grade": true,
     "grade_id": "cell-45d22e92042174c9",
     "locked": true,
     "points": 10,
     "schema_version": 3,
     "solution": false,
     "task": false
    }
   },
   "outputs": [
    {
     "name": "stdout",
     "output_type": "stream",
     "text": [
      "Model: \"functional_1\"\n",
      "_________________________________________________________________\n",
      "Layer (type)                 Output Shape              Param #   \n",
      "=================================================================\n",
      "input_1 (InputLayer)         [(None, 64, 64, 3)]       0         \n",
      "_________________________________________________________________\n",
      "conv2d_1 (Conv2D)            (None, 64, 64, 8)         392       \n",
      "_________________________________________________________________\n",
      "re_lu_1 (ReLU)               (None, 64, 64, 8)         0         \n",
      "_________________________________________________________________\n",
      "max_pooling2d_1 (MaxPooling2 (None, 8, 8, 8)           0         \n",
      "_________________________________________________________________\n",
      "conv2d_2 (Conv2D)            (None, 8, 8, 16)          528       \n",
      "_________________________________________________________________\n",
      "re_lu_2 (ReLU)               (None, 8, 8, 16)          0         \n",
      "_________________________________________________________________\n",
      "max_pooling2d_2 (MaxPooling2 (None, 2, 2, 16)          0         \n",
      "_________________________________________________________________\n",
      "flatten_1 (Flatten)          (None, 64)                0         \n",
      "_________________________________________________________________\n",
      "dense_1 (Dense)              (None, 6)                 390       \n",
      "=================================================================\n",
      "Total params: 1,310\n",
      "Trainable params: 1,310\n",
      "Non-trainable params: 0\n",
      "_________________________________________________________________\n",
      "\u001b[32mAll tests passed!\u001b[0m\n"
     ]
    }
   ],
   "source": [
    "conv_model = convolutional_model((64, 64, 3))\n",
    "conv_model.compile(optimizer='adam',\n",
    "                  loss='categorical_crossentropy',\n",
    "                  metrics=['accuracy'])\n",
    "conv_model.summary()\n",
    "    \n",
    "output = [['InputLayer', [(None, 64, 64, 3)], 0],\n",
    "        ['Conv2D', (None, 64, 64, 8), 392, 'same', 'linear', 'GlorotUniform'],\n",
    "        ['ReLU', (None, 64, 64, 8), 0],\n",
    "        ['MaxPooling2D', (None, 8, 8, 8), 0, (8, 8), (8, 8), 'same'],\n",
    "        ['Conv2D', (None, 8, 8, 16), 528, 'same', 'linear', 'GlorotUniform'],\n",
    "        ['ReLU', (None, 8, 8, 16), 0],\n",
    "        ['MaxPooling2D', (None, 2, 2, 16), 0, (4, 4), (4, 4), 'same'],\n",
    "        ['Flatten', (None, 64), 0],\n",
    "        ['Dense', (None, 6), 390, 'softmax']]\n",
    "    \n",
    "comparator(summary(conv_model), output)"
   ]
  },
  {
   "cell_type": "markdown",
   "metadata": {},
   "source": [
    "Both the Sequential and Functional APIs return a TF Keras model object. The only difference is how inputs are handled inside the object model! "
   ]
  },
  {
   "cell_type": "markdown",
   "metadata": {},
   "source": [
    "<a name='4-4'></a>\n",
    "### 4.4 - Train the Model"
   ]
  },
  {
   "cell_type": "code",
   "execution_count": 16,
   "metadata": {},
   "outputs": [
    {
     "name": "stdout",
     "output_type": "stream",
     "text": [
      "Epoch 1/100\n",
      "17/17 [==============================] - 2s 118ms/step - loss: 1.8428 - accuracy: 0.1852 - val_loss: 1.7954 - val_accuracy: 0.2000\n",
      "Epoch 2/100\n",
      "17/17 [==============================] - 2s 107ms/step - loss: 1.7926 - accuracy: 0.1546 - val_loss: 1.7840 - val_accuracy: 0.1583\n",
      "Epoch 3/100\n",
      "17/17 [==============================] - 2s 106ms/step - loss: 1.7870 - accuracy: 0.1565 - val_loss: 1.7811 - val_accuracy: 0.1667\n",
      "Epoch 4/100\n",
      "17/17 [==============================] - 2s 106ms/step - loss: 1.7838 - accuracy: 0.1935 - val_loss: 1.7790 - val_accuracy: 0.2417\n",
      "Epoch 5/100\n",
      "17/17 [==============================] - 2s 106ms/step - loss: 1.7808 - accuracy: 0.2278 - val_loss: 1.7761 - val_accuracy: 0.2583\n",
      "Epoch 6/100\n",
      "17/17 [==============================] - 2s 106ms/step - loss: 1.7773 - accuracy: 0.2444 - val_loss: 1.7727 - val_accuracy: 0.2917\n",
      "Epoch 7/100\n",
      "17/17 [==============================] - 2s 106ms/step - loss: 1.7729 - accuracy: 0.2685 - val_loss: 1.7678 - val_accuracy: 0.2667\n",
      "Epoch 8/100\n",
      "17/17 [==============================] - 2s 106ms/step - loss: 1.7677 - accuracy: 0.2843 - val_loss: 1.7616 - val_accuracy: 0.3167\n",
      "Epoch 9/100\n",
      "17/17 [==============================] - 2s 111ms/step - loss: 1.7614 - accuracy: 0.3213 - val_loss: 1.7534 - val_accuracy: 0.3333\n",
      "Epoch 10/100\n",
      "17/17 [==============================] - 2s 106ms/step - loss: 1.7529 - accuracy: 0.3519 - val_loss: 1.7421 - val_accuracy: 0.3667\n",
      "Epoch 11/100\n",
      "17/17 [==============================] - 2s 106ms/step - loss: 1.7402 - accuracy: 0.3667 - val_loss: 1.7265 - val_accuracy: 0.3583\n",
      "Epoch 12/100\n",
      "17/17 [==============================] - 2s 106ms/step - loss: 1.7228 - accuracy: 0.3954 - val_loss: 1.7071 - val_accuracy: 0.4333\n",
      "Epoch 13/100\n",
      "17/17 [==============================] - 2s 106ms/step - loss: 1.7014 - accuracy: 0.4389 - val_loss: 1.6826 - val_accuracy: 0.5417\n",
      "Epoch 14/100\n",
      "17/17 [==============================] - 2s 106ms/step - loss: 1.6761 - accuracy: 0.4676 - val_loss: 1.6569 - val_accuracy: 0.5500\n",
      "Epoch 15/100\n",
      "17/17 [==============================] - 2s 106ms/step - loss: 1.6457 - accuracy: 0.4833 - val_loss: 1.6239 - val_accuracy: 0.5333\n",
      "Epoch 16/100\n",
      "17/17 [==============================] - 2s 106ms/step - loss: 1.6096 - accuracy: 0.5000 - val_loss: 1.5846 - val_accuracy: 0.5167\n",
      "Epoch 17/100\n",
      "17/17 [==============================] - 2s 106ms/step - loss: 1.5662 - accuracy: 0.5139 - val_loss: 1.5353 - val_accuracy: 0.5000\n",
      "Epoch 18/100\n",
      "17/17 [==============================] - 2s 106ms/step - loss: 1.5156 - accuracy: 0.5380 - val_loss: 1.4808 - val_accuracy: 0.5333\n",
      "Epoch 19/100\n",
      "17/17 [==============================] - 2s 106ms/step - loss: 1.4607 - accuracy: 0.5537 - val_loss: 1.4232 - val_accuracy: 0.5667\n",
      "Epoch 20/100\n",
      "17/17 [==============================] - 2s 106ms/step - loss: 1.4016 - accuracy: 0.5676 - val_loss: 1.3612 - val_accuracy: 0.5833\n",
      "Epoch 21/100\n",
      "17/17 [==============================] - 2s 111ms/step - loss: 1.3409 - accuracy: 0.5806 - val_loss: 1.3022 - val_accuracy: 0.6000\n",
      "Epoch 22/100\n",
      "17/17 [==============================] - 2s 106ms/step - loss: 1.2810 - accuracy: 0.6065 - val_loss: 1.2444 - val_accuracy: 0.6083\n",
      "Epoch 23/100\n",
      "17/17 [==============================] - 2s 106ms/step - loss: 1.2239 - accuracy: 0.6148 - val_loss: 1.1885 - val_accuracy: 0.6083\n",
      "Epoch 24/100\n",
      "17/17 [==============================] - 2s 106ms/step - loss: 1.1698 - accuracy: 0.6389 - val_loss: 1.1388 - val_accuracy: 0.6167\n",
      "Epoch 25/100\n",
      "17/17 [==============================] - 2s 106ms/step - loss: 1.1210 - accuracy: 0.6380 - val_loss: 1.0917 - val_accuracy: 0.6250\n",
      "Epoch 26/100\n",
      "17/17 [==============================] - 2s 106ms/step - loss: 1.0753 - accuracy: 0.6556 - val_loss: 1.0504 - val_accuracy: 0.6250\n",
      "Epoch 27/100\n",
      "17/17 [==============================] - 2s 112ms/step - loss: 1.0352 - accuracy: 0.6657 - val_loss: 1.0130 - val_accuracy: 0.6333\n",
      "Epoch 28/100\n",
      "17/17 [==============================] - 2s 112ms/step - loss: 0.9998 - accuracy: 0.6778 - val_loss: 0.9803 - val_accuracy: 0.6500\n",
      "Epoch 29/100\n",
      "17/17 [==============================] - 2s 106ms/step - loss: 0.9668 - accuracy: 0.6898 - val_loss: 0.9494 - val_accuracy: 0.6583\n",
      "Epoch 30/100\n",
      "17/17 [==============================] - 2s 106ms/step - loss: 0.9367 - accuracy: 0.7019 - val_loss: 0.9219 - val_accuracy: 0.6667\n",
      "Epoch 31/100\n",
      "17/17 [==============================] - 2s 106ms/step - loss: 0.9089 - accuracy: 0.7130 - val_loss: 0.8962 - val_accuracy: 0.6833\n",
      "Epoch 32/100\n",
      "17/17 [==============================] - 2s 106ms/step - loss: 0.8829 - accuracy: 0.7241 - val_loss: 0.8721 - val_accuracy: 0.6833\n",
      "Epoch 33/100\n",
      "17/17 [==============================] - 2s 106ms/step - loss: 0.8594 - accuracy: 0.7269 - val_loss: 0.8487 - val_accuracy: 0.7083\n",
      "Epoch 34/100\n",
      "17/17 [==============================] - 2s 106ms/step - loss: 0.8364 - accuracy: 0.7315 - val_loss: 0.8276 - val_accuracy: 0.7083\n",
      "Epoch 35/100\n",
      "17/17 [==============================] - 2s 106ms/step - loss: 0.8152 - accuracy: 0.7380 - val_loss: 0.8079 - val_accuracy: 0.7250\n",
      "Epoch 36/100\n",
      "17/17 [==============================] - 2s 111ms/step - loss: 0.7960 - accuracy: 0.7435 - val_loss: 0.7892 - val_accuracy: 0.7250\n",
      "Epoch 37/100\n",
      "17/17 [==============================] - 2s 111ms/step - loss: 0.7761 - accuracy: 0.7481 - val_loss: 0.7711 - val_accuracy: 0.7333\n",
      "Epoch 38/100\n",
      "17/17 [==============================] - 2s 106ms/step - loss: 0.7589 - accuracy: 0.7583 - val_loss: 0.7536 - val_accuracy: 0.7417\n",
      "Epoch 39/100\n",
      "17/17 [==============================] - 2s 107ms/step - loss: 0.7416 - accuracy: 0.7648 - val_loss: 0.7377 - val_accuracy: 0.7417\n",
      "Epoch 40/100\n",
      "17/17 [==============================] - 2s 106ms/step - loss: 0.7249 - accuracy: 0.7667 - val_loss: 0.7210 - val_accuracy: 0.7500\n",
      "Epoch 41/100\n",
      "17/17 [==============================] - 2s 106ms/step - loss: 0.7091 - accuracy: 0.7741 - val_loss: 0.7045 - val_accuracy: 0.7583\n",
      "Epoch 42/100\n",
      "17/17 [==============================] - 2s 106ms/step - loss: 0.6925 - accuracy: 0.7759 - val_loss: 0.6875 - val_accuracy: 0.7750\n",
      "Epoch 43/100\n",
      "17/17 [==============================] - 2s 106ms/step - loss: 0.6777 - accuracy: 0.7796 - val_loss: 0.6738 - val_accuracy: 0.7833\n",
      "Epoch 44/100\n",
      "17/17 [==============================] - 2s 106ms/step - loss: 0.6640 - accuracy: 0.7889 - val_loss: 0.6614 - val_accuracy: 0.8000\n",
      "Epoch 45/100\n",
      "17/17 [==============================] - 2s 106ms/step - loss: 0.6506 - accuracy: 0.7954 - val_loss: 0.6496 - val_accuracy: 0.8000\n",
      "Epoch 46/100\n",
      "17/17 [==============================] - 2s 106ms/step - loss: 0.6377 - accuracy: 0.7972 - val_loss: 0.6379 - val_accuracy: 0.8000\n",
      "Epoch 47/100\n",
      "17/17 [==============================] - 2s 106ms/step - loss: 0.6251 - accuracy: 0.8056 - val_loss: 0.6264 - val_accuracy: 0.7833\n",
      "Epoch 48/100\n",
      "17/17 [==============================] - 2s 106ms/step - loss: 0.6120 - accuracy: 0.8102 - val_loss: 0.6155 - val_accuracy: 0.7917\n",
      "Epoch 49/100\n",
      "17/17 [==============================] - 2s 106ms/step - loss: 0.5993 - accuracy: 0.8157 - val_loss: 0.6046 - val_accuracy: 0.7917\n",
      "Epoch 50/100\n",
      "17/17 [==============================] - 2s 112ms/step - loss: 0.5877 - accuracy: 0.8194 - val_loss: 0.5944 - val_accuracy: 0.8000\n",
      "Epoch 51/100\n",
      "17/17 [==============================] - 2s 106ms/step - loss: 0.5764 - accuracy: 0.8241 - val_loss: 0.5848 - val_accuracy: 0.7917\n",
      "Epoch 52/100\n",
      "17/17 [==============================] - 2s 106ms/step - loss: 0.5653 - accuracy: 0.8269 - val_loss: 0.5757 - val_accuracy: 0.8000\n",
      "Epoch 53/100\n",
      "17/17 [==============================] - 2s 106ms/step - loss: 0.5550 - accuracy: 0.8287 - val_loss: 0.5669 - val_accuracy: 0.8000\n",
      "Epoch 54/100\n",
      "17/17 [==============================] - 2s 111ms/step - loss: 0.5448 - accuracy: 0.8296 - val_loss: 0.5585 - val_accuracy: 0.8083\n",
      "Epoch 55/100\n",
      "17/17 [==============================] - 2s 106ms/step - loss: 0.5348 - accuracy: 0.8361 - val_loss: 0.5503 - val_accuracy: 0.8083\n",
      "Epoch 56/100\n",
      "17/17 [==============================] - 2s 106ms/step - loss: 0.5254 - accuracy: 0.8398 - val_loss: 0.5431 - val_accuracy: 0.8083\n",
      "Epoch 57/100\n",
      "17/17 [==============================] - 2s 106ms/step - loss: 0.5165 - accuracy: 0.8426 - val_loss: 0.5359 - val_accuracy: 0.8167\n",
      "Epoch 58/100\n",
      "17/17 [==============================] - 2s 106ms/step - loss: 0.5078 - accuracy: 0.8444 - val_loss: 0.5278 - val_accuracy: 0.8167\n",
      "Epoch 59/100\n",
      "17/17 [==============================] - 2s 106ms/step - loss: 0.5000 - accuracy: 0.8444 - val_loss: 0.5226 - val_accuracy: 0.8167\n",
      "Epoch 60/100\n",
      "17/17 [==============================] - 2s 111ms/step - loss: 0.4911 - accuracy: 0.8472 - val_loss: 0.5150 - val_accuracy: 0.8083\n",
      "Epoch 61/100\n",
      "17/17 [==============================] - 2s 111ms/step - loss: 0.4839 - accuracy: 0.8481 - val_loss: 0.5093 - val_accuracy: 0.8167\n",
      "Epoch 62/100\n",
      "17/17 [==============================] - 2s 111ms/step - loss: 0.4758 - accuracy: 0.8537 - val_loss: 0.5035 - val_accuracy: 0.8167\n",
      "Epoch 63/100\n",
      "17/17 [==============================] - 2s 112ms/step - loss: 0.4686 - accuracy: 0.8565 - val_loss: 0.4980 - val_accuracy: 0.8167\n",
      "Epoch 64/100\n",
      "17/17 [==============================] - 2s 107ms/step - loss: 0.4614 - accuracy: 0.8593 - val_loss: 0.4925 - val_accuracy: 0.8167\n",
      "Epoch 65/100\n",
      "17/17 [==============================] - 2s 106ms/step - loss: 0.4545 - accuracy: 0.8630 - val_loss: 0.4878 - val_accuracy: 0.8167\n",
      "Epoch 66/100\n",
      "17/17 [==============================] - 2s 106ms/step - loss: 0.4486 - accuracy: 0.8648 - val_loss: 0.4820 - val_accuracy: 0.8250\n",
      "Epoch 67/100\n",
      "17/17 [==============================] - 2s 106ms/step - loss: 0.4416 - accuracy: 0.8657 - val_loss: 0.4779 - val_accuracy: 0.8250\n",
      "Epoch 68/100\n",
      "17/17 [==============================] - 2s 106ms/step - loss: 0.4348 - accuracy: 0.8667 - val_loss: 0.4729 - val_accuracy: 0.8333\n",
      "Epoch 69/100\n",
      "17/17 [==============================] - 2s 112ms/step - loss: 0.4286 - accuracy: 0.8685 - val_loss: 0.4680 - val_accuracy: 0.8333\n",
      "Epoch 70/100\n",
      "17/17 [==============================] - 2s 112ms/step - loss: 0.4226 - accuracy: 0.8713 - val_loss: 0.4635 - val_accuracy: 0.8333\n",
      "Epoch 71/100\n",
      "17/17 [==============================] - 2s 106ms/step - loss: 0.4172 - accuracy: 0.8722 - val_loss: 0.4594 - val_accuracy: 0.8333\n",
      "Epoch 72/100\n",
      "17/17 [==============================] - 2s 106ms/step - loss: 0.4111 - accuracy: 0.8769 - val_loss: 0.4547 - val_accuracy: 0.8417\n",
      "Epoch 73/100\n",
      "17/17 [==============================] - 2s 106ms/step - loss: 0.4056 - accuracy: 0.8778 - val_loss: 0.4505 - val_accuracy: 0.8417\n",
      "Epoch 74/100\n",
      "17/17 [==============================] - 2s 112ms/step - loss: 0.4003 - accuracy: 0.8778 - val_loss: 0.4465 - val_accuracy: 0.8417\n",
      "Epoch 75/100\n",
      "17/17 [==============================] - 2s 111ms/step - loss: 0.3951 - accuracy: 0.8824 - val_loss: 0.4422 - val_accuracy: 0.8417\n",
      "Epoch 76/100\n",
      "17/17 [==============================] - 2s 111ms/step - loss: 0.3898 - accuracy: 0.8870 - val_loss: 0.4383 - val_accuracy: 0.8500\n",
      "Epoch 77/100\n",
      "17/17 [==============================] - 2s 112ms/step - loss: 0.3851 - accuracy: 0.8898 - val_loss: 0.4348 - val_accuracy: 0.8500\n",
      "Epoch 78/100\n",
      "17/17 [==============================] - 2s 111ms/step - loss: 0.3799 - accuracy: 0.8907 - val_loss: 0.4318 - val_accuracy: 0.8583\n",
      "Epoch 79/100\n",
      "17/17 [==============================] - 2s 107ms/step - loss: 0.3750 - accuracy: 0.8935 - val_loss: 0.4281 - val_accuracy: 0.8583\n",
      "Epoch 80/100\n",
      "17/17 [==============================] - 2s 111ms/step - loss: 0.3705 - accuracy: 0.8963 - val_loss: 0.4260 - val_accuracy: 0.8583\n",
      "Epoch 81/100\n",
      "17/17 [==============================] - 2s 111ms/step - loss: 0.3660 - accuracy: 0.8963 - val_loss: 0.4224 - val_accuracy: 0.8583\n",
      "Epoch 82/100\n",
      "17/17 [==============================] - 2s 107ms/step - loss: 0.3615 - accuracy: 0.8972 - val_loss: 0.4188 - val_accuracy: 0.8583\n",
      "Epoch 83/100\n",
      "17/17 [==============================] - 2s 112ms/step - loss: 0.3571 - accuracy: 0.9000 - val_loss: 0.4159 - val_accuracy: 0.8583\n",
      "Epoch 84/100\n",
      "17/17 [==============================] - 2s 111ms/step - loss: 0.3527 - accuracy: 0.9037 - val_loss: 0.4125 - val_accuracy: 0.8583\n",
      "Epoch 85/100\n",
      "17/17 [==============================] - 2s 111ms/step - loss: 0.3485 - accuracy: 0.9046 - val_loss: 0.4095 - val_accuracy: 0.8583\n",
      "Epoch 86/100\n",
      "17/17 [==============================] - 2s 111ms/step - loss: 0.3445 - accuracy: 0.9046 - val_loss: 0.4068 - val_accuracy: 0.8583\n",
      "Epoch 87/100\n",
      "17/17 [==============================] - 2s 112ms/step - loss: 0.3406 - accuracy: 0.9046 - val_loss: 0.4034 - val_accuracy: 0.8667\n",
      "Epoch 88/100\n",
      "17/17 [==============================] - 2s 106ms/step - loss: 0.3366 - accuracy: 0.9046 - val_loss: 0.4012 - val_accuracy: 0.8750\n",
      "Epoch 89/100\n",
      "17/17 [==============================] - 2s 111ms/step - loss: 0.3329 - accuracy: 0.9074 - val_loss: 0.3981 - val_accuracy: 0.8750\n",
      "Epoch 90/100\n",
      "17/17 [==============================] - 2s 106ms/step - loss: 0.3294 - accuracy: 0.9083 - val_loss: 0.3947 - val_accuracy: 0.8750\n",
      "Epoch 91/100\n",
      "17/17 [==============================] - 2s 112ms/step - loss: 0.3259 - accuracy: 0.9111 - val_loss: 0.3930 - val_accuracy: 0.8750\n",
      "Epoch 92/100\n",
      "17/17 [==============================] - 2s 107ms/step - loss: 0.3222 - accuracy: 0.9111 - val_loss: 0.3907 - val_accuracy: 0.8750\n",
      "Epoch 93/100\n",
      "17/17 [==============================] - 2s 112ms/step - loss: 0.3190 - accuracy: 0.9120 - val_loss: 0.3884 - val_accuracy: 0.8750\n",
      "Epoch 94/100\n",
      "17/17 [==============================] - 2s 111ms/step - loss: 0.3153 - accuracy: 0.9102 - val_loss: 0.3861 - val_accuracy: 0.8750\n",
      "Epoch 95/100\n",
      "17/17 [==============================] - 2s 107ms/step - loss: 0.3122 - accuracy: 0.9139 - val_loss: 0.3835 - val_accuracy: 0.8750\n",
      "Epoch 96/100\n",
      "17/17 [==============================] - 2s 112ms/step - loss: 0.3086 - accuracy: 0.9139 - val_loss: 0.3815 - val_accuracy: 0.8750\n",
      "Epoch 97/100\n",
      "17/17 [==============================] - 2s 107ms/step - loss: 0.3054 - accuracy: 0.9139 - val_loss: 0.3792 - val_accuracy: 0.8833\n",
      "Epoch 98/100\n",
      "17/17 [==============================] - 2s 112ms/step - loss: 0.3021 - accuracy: 0.9139 - val_loss: 0.3770 - val_accuracy: 0.8917\n",
      "Epoch 99/100\n",
      "17/17 [==============================] - 2s 106ms/step - loss: 0.2986 - accuracy: 0.9139 - val_loss: 0.3743 - val_accuracy: 0.8917\n",
      "Epoch 100/100\n",
      "17/17 [==============================] - 2s 112ms/step - loss: 0.2952 - accuracy: 0.9148 - val_loss: 0.3722 - val_accuracy: 0.8917\n"
     ]
    }
   ],
   "source": [
    "train_dataset = tf.data.Dataset.from_tensor_slices((X_train, Y_train)).batch(64)\n",
    "test_dataset = tf.data.Dataset.from_tensor_slices((X_test, Y_test)).batch(64)\n",
    "history = conv_model.fit(train_dataset, epochs=100, validation_data=test_dataset)"
   ]
  },
  {
   "cell_type": "markdown",
   "metadata": {},
   "source": [
    "<a name='5'></a>\n",
    "## 5 - History Object \n",
    "\n",
    "The history object is an output of the `.fit()` operation, and provides a record of all the loss and metric values in memory. It's stored as a dictionary that you can retrieve at `history.history`: "
   ]
  },
  {
   "cell_type": "code",
   "execution_count": 17,
   "metadata": {},
   "outputs": [
    {
     "data": {
      "text/plain": [
       "{'loss': [1.8428047895431519,\n",
       "  1.7925934791564941,\n",
       "  1.7869911193847656,\n",
       "  1.7837600708007812,\n",
       "  1.780808925628662,\n",
       "  1.7772765159606934,\n",
       "  1.7728750705718994,\n",
       "  1.7677210569381714,\n",
       "  1.7613710165023804,\n",
       "  1.7529066801071167,\n",
       "  1.740222692489624,\n",
       "  1.7227662801742554,\n",
       "  1.7014445066452026,\n",
       "  1.6760598421096802,\n",
       "  1.6457271575927734,\n",
       "  1.6096211671829224,\n",
       "  1.5661914348602295,\n",
       "  1.5156188011169434,\n",
       "  1.4606833457946777,\n",
       "  1.4015966653823853,\n",
       "  1.3408972024917603,\n",
       "  1.2810286283493042,\n",
       "  1.2239409685134888,\n",
       "  1.169798731803894,\n",
       "  1.1209666728973389,\n",
       "  1.0753295421600342,\n",
       "  1.035202145576477,\n",
       "  0.9998078346252441,\n",
       "  0.9667574167251587,\n",
       "  0.9367188811302185,\n",
       "  0.9088979363441467,\n",
       "  0.8828604221343994,\n",
       "  0.8593598008155823,\n",
       "  0.836357057094574,\n",
       "  0.8151647448539734,\n",
       "  0.7959692478179932,\n",
       "  0.776127278804779,\n",
       "  0.7589297294616699,\n",
       "  0.7416064143180847,\n",
       "  0.7249114513397217,\n",
       "  0.7090826034545898,\n",
       "  0.6925143599510193,\n",
       "  0.6777138113975525,\n",
       "  0.664004921913147,\n",
       "  0.6506065726280212,\n",
       "  0.6377036571502686,\n",
       "  0.6251310706138611,\n",
       "  0.6119981408119202,\n",
       "  0.599330484867096,\n",
       "  0.5877019762992859,\n",
       "  0.5764058232307434,\n",
       "  0.5653144717216492,\n",
       "  0.5550229549407959,\n",
       "  0.5447731018066406,\n",
       "  0.5347781777381897,\n",
       "  0.5253633856773376,\n",
       "  0.5164750814437866,\n",
       "  0.5078373551368713,\n",
       "  0.49998441338539124,\n",
       "  0.491054505109787,\n",
       "  0.4838867783546448,\n",
       "  0.47577837109565735,\n",
       "  0.4686257243156433,\n",
       "  0.4614313244819641,\n",
       "  0.4545329511165619,\n",
       "  0.44857144355773926,\n",
       "  0.44161155819892883,\n",
       "  0.434774249792099,\n",
       "  0.42862147092819214,\n",
       "  0.422606885433197,\n",
       "  0.41723278164863586,\n",
       "  0.4111393392086029,\n",
       "  0.40563687682151794,\n",
       "  0.4002768397331238,\n",
       "  0.39509665966033936,\n",
       "  0.38982728123664856,\n",
       "  0.3850735127925873,\n",
       "  0.37985193729400635,\n",
       "  0.3750252425670624,\n",
       "  0.37045520544052124,\n",
       "  0.3660430610179901,\n",
       "  0.36146280169487,\n",
       "  0.3570820689201355,\n",
       "  0.35272133350372314,\n",
       "  0.34846118092536926,\n",
       "  0.34450238943099976,\n",
       "  0.34059396386146545,\n",
       "  0.3366211950778961,\n",
       "  0.33293282985687256,\n",
       "  0.3294423222541809,\n",
       "  0.3258506953716278,\n",
       "  0.322191447019577,\n",
       "  0.31901249289512634,\n",
       "  0.3152531087398529,\n",
       "  0.31217262148857117,\n",
       "  0.30861133337020874,\n",
       "  0.3054410219192505,\n",
       "  0.3021024465560913,\n",
       "  0.29859840869903564,\n",
       "  0.29523640871047974],\n",
       " 'accuracy': [0.18518517911434174,\n",
       "  0.1546296328306198,\n",
       "  0.15648147463798523,\n",
       "  0.1935185194015503,\n",
       "  0.22777777910232544,\n",
       "  0.24444444477558136,\n",
       "  0.26851850748062134,\n",
       "  0.28425925970077515,\n",
       "  0.3212963044643402,\n",
       "  0.35185185074806213,\n",
       "  0.36666667461395264,\n",
       "  0.39537036418914795,\n",
       "  0.43888887763023376,\n",
       "  0.46759259700775146,\n",
       "  0.4833333194255829,\n",
       "  0.5,\n",
       "  0.5138888955116272,\n",
       "  0.5379629731178284,\n",
       "  0.5537037253379822,\n",
       "  0.5675926208496094,\n",
       "  0.5805555582046509,\n",
       "  0.6064814925193787,\n",
       "  0.614814817905426,\n",
       "  0.6388888955116272,\n",
       "  0.6379629373550415,\n",
       "  0.6555555462837219,\n",
       "  0.6657407283782959,\n",
       "  0.6777777671813965,\n",
       "  0.6898148059844971,\n",
       "  0.7018518447875977,\n",
       "  0.7129629850387573,\n",
       "  0.7240740656852722,\n",
       "  0.7268518805503845,\n",
       "  0.7314814925193787,\n",
       "  0.7379629611968994,\n",
       "  0.7435185313224792,\n",
       "  0.7481481432914734,\n",
       "  0.7583333253860474,\n",
       "  0.7648147940635681,\n",
       "  0.7666666507720947,\n",
       "  0.7740740776062012,\n",
       "  0.7759259343147278,\n",
       "  0.779629647731781,\n",
       "  0.7888888716697693,\n",
       "  0.7953703999519348,\n",
       "  0.7972221970558167,\n",
       "  0.8055555820465088,\n",
       "  0.8101851940155029,\n",
       "  0.8157407641410828,\n",
       "  0.8194444179534912,\n",
       "  0.8240740895271301,\n",
       "  0.8268518447875977,\n",
       "  0.8287037014961243,\n",
       "  0.8296296000480652,\n",
       "  0.8361111283302307,\n",
       "  0.8398148417472839,\n",
       "  0.8425925970077515,\n",
       "  0.8444444537162781,\n",
       "  0.8444444537162781,\n",
       "  0.8472222089767456,\n",
       "  0.8481481671333313,\n",
       "  0.8537036776542664,\n",
       "  0.8564814925193787,\n",
       "  0.8592592477798462,\n",
       "  0.8629629611968994,\n",
       "  0.864814817905426,\n",
       "  0.8657407164573669,\n",
       "  0.8666666746139526,\n",
       "  0.8685185313224792,\n",
       "  0.8712962865829468,\n",
       "  0.8722222447395325,\n",
       "  0.8768518567085266,\n",
       "  0.8777777552604675,\n",
       "  0.8777777552604675,\n",
       "  0.8824074268341064,\n",
       "  0.8870370388031006,\n",
       "  0.8898147940635681,\n",
       "  0.8907407522201538,\n",
       "  0.8935185074806213,\n",
       "  0.8962963223457336,\n",
       "  0.8962963223457336,\n",
       "  0.8972222208976746,\n",
       "  0.8999999761581421,\n",
       "  0.9037036895751953,\n",
       "  0.904629647731781,\n",
       "  0.904629647731781,\n",
       "  0.904629647731781,\n",
       "  0.904629647731781,\n",
       "  0.9074074029922485,\n",
       "  0.9083333611488342,\n",
       "  0.9111111164093018,\n",
       "  0.9111111164093018,\n",
       "  0.9120370149612427,\n",
       "  0.9101851582527161,\n",
       "  0.9138888716697693,\n",
       "  0.9138888716697693,\n",
       "  0.9138888716697693,\n",
       "  0.9138888716697693,\n",
       "  0.9138888716697693,\n",
       "  0.914814829826355],\n",
       " 'val_loss': [1.7954083681106567,\n",
       "  1.7839581966400146,\n",
       "  1.7810702323913574,\n",
       "  1.7790188789367676,\n",
       "  1.7761008739471436,\n",
       "  1.7726792097091675,\n",
       "  1.7677935361862183,\n",
       "  1.7616015672683716,\n",
       "  1.7533968687057495,\n",
       "  1.7421352863311768,\n",
       "  1.72651207447052,\n",
       "  1.7071478366851807,\n",
       "  1.6826293468475342,\n",
       "  1.6569398641586304,\n",
       "  1.6238521337509155,\n",
       "  1.5846178531646729,\n",
       "  1.5353038311004639,\n",
       "  1.4807965755462646,\n",
       "  1.4232144355773926,\n",
       "  1.3612233400344849,\n",
       "  1.302154541015625,\n",
       "  1.2443623542785645,\n",
       "  1.1885488033294678,\n",
       "  1.13877272605896,\n",
       "  1.0917136669158936,\n",
       "  1.050414800643921,\n",
       "  1.0129584074020386,\n",
       "  0.9802563786506653,\n",
       "  0.9493767023086548,\n",
       "  0.9218652844429016,\n",
       "  0.896210253238678,\n",
       "  0.8720606565475464,\n",
       "  0.8486520648002625,\n",
       "  0.8275842070579529,\n",
       "  0.8079368472099304,\n",
       "  0.7891560792922974,\n",
       "  0.771109402179718,\n",
       "  0.7536221742630005,\n",
       "  0.7376993894577026,\n",
       "  0.7210482358932495,\n",
       "  0.7045078277587891,\n",
       "  0.6874507665634155,\n",
       "  0.6738184690475464,\n",
       "  0.6614301204681396,\n",
       "  0.6495516896247864,\n",
       "  0.6379427313804626,\n",
       "  0.6263532042503357,\n",
       "  0.6155094504356384,\n",
       "  0.6045910120010376,\n",
       "  0.5944499373435974,\n",
       "  0.584804356098175,\n",
       "  0.5757288336753845,\n",
       "  0.5668987035751343,\n",
       "  0.5584757328033447,\n",
       "  0.5502576231956482,\n",
       "  0.5431486964225769,\n",
       "  0.5358927249908447,\n",
       "  0.5278047919273376,\n",
       "  0.522629976272583,\n",
       "  0.51495760679245,\n",
       "  0.5092906355857849,\n",
       "  0.5034822821617126,\n",
       "  0.49798551201820374,\n",
       "  0.492475688457489,\n",
       "  0.4877678453922272,\n",
       "  0.4820348024368286,\n",
       "  0.4779055416584015,\n",
       "  0.472874253988266,\n",
       "  0.46801260113716125,\n",
       "  0.46354326605796814,\n",
       "  0.45938289165496826,\n",
       "  0.4546601474285126,\n",
       "  0.450480580329895,\n",
       "  0.4465208649635315,\n",
       "  0.4421742260456085,\n",
       "  0.4382988214492798,\n",
       "  0.4347723722457886,\n",
       "  0.431810587644577,\n",
       "  0.42805856466293335,\n",
       "  0.4259932339191437,\n",
       "  0.42235320806503296,\n",
       "  0.4188423156738281,\n",
       "  0.4158767759799957,\n",
       "  0.4125431180000305,\n",
       "  0.40948912501335144,\n",
       "  0.4068126380443573,\n",
       "  0.40342673659324646,\n",
       "  0.4012179672718048,\n",
       "  0.39814451336860657,\n",
       "  0.3947111666202545,\n",
       "  0.39296862483024597,\n",
       "  0.39072105288505554,\n",
       "  0.38835984468460083,\n",
       "  0.3861486315727234,\n",
       "  0.3835398256778717,\n",
       "  0.38150161504745483,\n",
       "  0.3791602551937103,\n",
       "  0.3769645690917969,\n",
       "  0.3742767870426178,\n",
       "  0.37217986583709717],\n",
       " 'val_accuracy': [0.20000000298023224,\n",
       "  0.15833333134651184,\n",
       "  0.1666666716337204,\n",
       "  0.24166665971279144,\n",
       "  0.25833332538604736,\n",
       "  0.2916666567325592,\n",
       "  0.2666666805744171,\n",
       "  0.3166666626930237,\n",
       "  0.3333333432674408,\n",
       "  0.36666667461395264,\n",
       "  0.3583333194255829,\n",
       "  0.4333333373069763,\n",
       "  0.5416666865348816,\n",
       "  0.550000011920929,\n",
       "  0.5333333611488342,\n",
       "  0.5166666507720947,\n",
       "  0.5,\n",
       "  0.5333333611488342,\n",
       "  0.5666666626930237,\n",
       "  0.5833333134651184,\n",
       "  0.6000000238418579,\n",
       "  0.6083333492279053,\n",
       "  0.6083333492279053,\n",
       "  0.6166666746139526,\n",
       "  0.625,\n",
       "  0.625,\n",
       "  0.6333333253860474,\n",
       "  0.6499999761581421,\n",
       "  0.6583333611488342,\n",
       "  0.6666666865348816,\n",
       "  0.6833333373069763,\n",
       "  0.6833333373069763,\n",
       "  0.7083333134651184,\n",
       "  0.7083333134651184,\n",
       "  0.7250000238418579,\n",
       "  0.7250000238418579,\n",
       "  0.7333333492279053,\n",
       "  0.7416666746139526,\n",
       "  0.7416666746139526,\n",
       "  0.75,\n",
       "  0.7583333253860474,\n",
       "  0.7749999761581421,\n",
       "  0.7833333611488342,\n",
       "  0.800000011920929,\n",
       "  0.800000011920929,\n",
       "  0.800000011920929,\n",
       "  0.7833333611488342,\n",
       "  0.7916666865348816,\n",
       "  0.7916666865348816,\n",
       "  0.800000011920929,\n",
       "  0.7916666865348816,\n",
       "  0.800000011920929,\n",
       "  0.800000011920929,\n",
       "  0.8083333373069763,\n",
       "  0.8083333373069763,\n",
       "  0.8083333373069763,\n",
       "  0.8166666626930237,\n",
       "  0.8166666626930237,\n",
       "  0.8166666626930237,\n",
       "  0.8083333373069763,\n",
       "  0.8166666626930237,\n",
       "  0.8166666626930237,\n",
       "  0.8166666626930237,\n",
       "  0.8166666626930237,\n",
       "  0.8166666626930237,\n",
       "  0.824999988079071,\n",
       "  0.824999988079071,\n",
       "  0.8333333134651184,\n",
       "  0.8333333134651184,\n",
       "  0.8333333134651184,\n",
       "  0.8333333134651184,\n",
       "  0.8416666388511658,\n",
       "  0.8416666388511658,\n",
       "  0.8416666388511658,\n",
       "  0.8416666388511658,\n",
       "  0.8500000238418579,\n",
       "  0.8500000238418579,\n",
       "  0.8583333492279053,\n",
       "  0.8583333492279053,\n",
       "  0.8583333492279053,\n",
       "  0.8583333492279053,\n",
       "  0.8583333492279053,\n",
       "  0.8583333492279053,\n",
       "  0.8583333492279053,\n",
       "  0.8583333492279053,\n",
       "  0.8583333492279053,\n",
       "  0.8666666746139526,\n",
       "  0.875,\n",
       "  0.875,\n",
       "  0.875,\n",
       "  0.875,\n",
       "  0.875,\n",
       "  0.875,\n",
       "  0.875,\n",
       "  0.875,\n",
       "  0.875,\n",
       "  0.8833333253860474,\n",
       "  0.8916666507720947,\n",
       "  0.8916666507720947,\n",
       "  0.8916666507720947]}"
      ]
     },
     "execution_count": 17,
     "metadata": {},
     "output_type": "execute_result"
    }
   ],
   "source": [
    "history.history"
   ]
  },
  {
   "cell_type": "markdown",
   "metadata": {},
   "source": [
    "Now visualize the loss over time using `history.history`: "
   ]
  },
  {
   "cell_type": "code",
   "execution_count": 18,
   "metadata": {},
   "outputs": [
    {
     "data": {
      "text/plain": [
       "[Text(0, 0.5, 'Accuracy'), Text(0.5, 0, 'Epoch')]"
      ]
     },
     "execution_count": 18,
     "metadata": {},
     "output_type": "execute_result"
    },
    {
     "data": {
      "image/png": "[encoded data removed]",
      "text/plain": [
       "<Figure size 864x576 with 1 Axes>"
      ]
     },
     "metadata": {
      "needs_background": "light"
     },
     "output_type": "display_data"
    },
    {
     "data": {
      "image/png": "[encoded data removed]",
      "text/plain": [
       "<Figure size 864x576 with 1 Axes>"
      ]
     },
     "metadata": {
      "needs_background": "light"
     },
     "output_type": "display_data"
    }
   ],
   "source": [
    "# The history.history[\"loss\"] entry is a dictionary with as many values as epochs that the\n",
    "# model was trained on. \n",
    "df_loss_acc = pd.DataFrame(history.history)\n",
    "df_loss= df_loss_acc[['loss','val_loss']]\n",
    "df_loss.rename(columns={'loss':'train','val_loss':'validation'},inplace=True)\n",
    "df_acc= df_loss_acc[['accuracy','val_accuracy']]\n",
    "df_acc.rename(columns={'accuracy':'train','val_accuracy':'validation'},inplace=True)\n",
    "df_loss.plot(title='Model loss',figsize=(12,8)).set(xlabel='Epoch',ylabel='Loss')\n",
    "df_acc.plot(title='Model Accuracy',figsize=(12,8)).set(xlabel='Epoch',ylabel='Accuracy')"
   ]
  },
  {
   "cell_type": "markdown",
   "metadata": {},
   "source": [
    "**Congratulations**! You've finished the assignment and built two models: One that recognizes  smiles, and another that recognizes SIGN language with almost 80% accuracy on the test set. In addition to that, you now also understand the applications of two Keras APIs: Sequential and Functional. Nicely done! \n",
    "\n",
    "By now, you know a bit about how the Functional API works and may have glimpsed the possibilities. In your next assignment, you'll really get a feel for its power when you get the opportunity to build a very deep ConvNet, using ResNets! "
   ]
  },
  {
   "cell_type": "markdown",
   "metadata": {},
   "source": [
    "<a name='6'></a>\n",
    "## 6 - Bibliography\n",
    "\n",
    "You're always encouraged to read the official documentation. To that end, you can find the docs for the Sequential and Functional APIs here: \n",
    "\n",
    "https://www.tensorflow.org/guide/keras/sequential_model\n",
    "\n",
    "https://www.tensorflow.org/guide/keras/functional"
   ]
  }
 ],
 "metadata": {
  "coursera": {
   "course_slug": "convolutional-neural-networks",
   "graded_item_id": "bwbJV",
   "launcher_item_id": "0TkXB"
  },
  "kernelspec": {
   "display_name": "Python 3",
   "language": "python",
   "name": "python3"
  },
  "language_info": {
   "codemirror_mode": {
    "name": "ipython",
    "version": 3
   },
   "file_extension": ".py",
   "mimetype": "text/x-python",
   "name": "python",
   "nbconvert_exporter": "python",
   "pygments_lexer": "ipython3",
   "version": "3.7.6"
  }
 },
 "nbformat": 4,
 "nbformat_minor": 2
}
